{
  "nbformat": 4,
  "nbformat_minor": 0,
  "metadata": {
    "colab": {
      "name": "problem1-multiple-input-neuron.ipynb",
      "provenance": [],
      "authorship_tag": "ABX9TyONgU9r/n/q6nL/yMZQkzGb",
      "include_colab_link": true
    },
    "kernelspec": {
      "name": "python3",
      "display_name": "Python 3"
    }
  },
  "cells": [
    {
      "cell_type": "markdown",
      "metadata": {
        "id": "view-in-github",
        "colab_type": "text"
      },
      "source": [
        "<a href=\"https://colab.research.google.com/github/supanat/ds521-deep-learning/blob/main/problem1_multiple_input_neuron.ipynb\" target=\"_parent\"><img src=\"https://colab.research.google.com/assets/colab-badge.svg\" alt=\"Open In Colab\"/></a>"
      ]
    },
    {
      "cell_type": "markdown",
      "metadata": {
        "id": "k3XuRryF3PQC"
      },
      "source": [
        "# Import required package"
      ]
    },
    {
      "cell_type": "code",
      "metadata": {
        "id": "bBxL8L0-zBOG"
      },
      "source": [
        "import numpy as np\n",
        "import sys\n",
        "import os\n",
        "import math"
      ],
      "execution_count": 1,
      "outputs": []
    },
    {
      "cell_type": "markdown",
      "metadata": {
        "id": "-Eg_hGoC3Z28"
      },
      "source": [
        "# Define Activation Fuction\n"
      ]
    },
    {
      "cell_type": "code",
      "metadata": {
        "id": "t3-V4R-4zU2l"
      },
      "source": [
        "def hardlim(x):\n",
        "  # return 0 if x<0 else 1\n",
        "  return np.sign(x)\n",
        "\n",
        "def sigmoid(x):\n",
        "  #return 1/(1+np.exp(-x))\n",
        "  return np.exp(-np.logaddexp(0,-x))\n"
      ],
      "execution_count": 5,
      "outputs": []
    },
    {
      "cell_type": "code",
      "metadata": {
        "id": "JmTC8GlL0G-m"
      },
      "source": [
        "def neuron(w,p,b,func_name):\n",
        "  n = np.dot(w,p)+b\n",
        "  if func_name.upper() == \"PURELIN\":\n",
        "    a = n\n",
        "  elif func_name.upper() == \"HARDLIN\":\n",
        "    a = hardlim(n)\n",
        "  elif func_name.upper() == \"LOGSIG\":\n",
        "    a = sigmoid(n)\n",
        "\n",
        "  return a"
      ],
      "execution_count": 9,
      "outputs": []
    },
    {
      "cell_type": "code",
      "metadata": {
        "id": "gcDUEHIh08Wh",
        "outputId": "e6b3743a-d55d-473e-b31b-8235aebe6243",
        "colab": {
          "base_uri": "https://localhost:8080/",
          "height": 68
        }
      },
      "source": [
        "w = np.array([6,2])\n",
        "b = np.array([-4])\n",
        "P = np.array([[1,2],[-1,2],[0,-1]]).transpose()\n",
        "\n",
        "func_name = 'logsig'\n",
        "for i in range(P.shape[1]):\n",
        "  a = neuron(w,P[:,i],b,func_name)\n",
        "  print(a)"
      ],
      "execution_count": 12,
      "outputs": [
        {
          "output_type": "stream",
          "text": [
            "[0.99752738]\n",
            "[0.00247262]\n",
            "[0.00247262]\n"
          ],
          "name": "stdout"
        }
      ]
    },
    {
      "cell_type": "code",
      "metadata": {
        "id": "vOaKdHvW1TWP"
      },
      "source": [
        ""
      ],
      "execution_count": null,
      "outputs": []
    }
  ]
}